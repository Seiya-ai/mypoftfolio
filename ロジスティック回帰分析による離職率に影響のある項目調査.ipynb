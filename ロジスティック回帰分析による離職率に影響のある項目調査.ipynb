{
 "cells": [
  {
   "cell_type": "markdown",
   "id": "6f2e50eb",
   "metadata": {},
   "source": [
    "# 課題\n",
    "## 何のためにデータを解析するか\n",
    "離職率を高める要因が何かを特定します。\n",
    "業種によって離職率が高かったり、人によって転職回数が多い場合もあります。\n",
    "積極的な転職は有益ですが、不本意な転職は、働く本人にとって有益ではありませんし、雇用する企業にとって離職率が\n",
    "高いことは大きな損失です。\n",
    "今回は、Kaggleの、実在のロシアにおける個人離職データ\n",
    "https://www.kaggle.com/datasets/davinwijaya/employee-turnover\n",
    "を用いて、個人の属性が離職率を高めるのかを検証します。\n",
    "そうすることで、企業が従業員の離職を減らし、従業員がより高い満足度で働くために何を改善できるのかを対策できます。\n",
    "\n",
    "## 指標を決める（仮説を立てる）\n",
    "今回は、年齢、性別、交通手段や性格診断で最も信頼性のあるとされるBig5テストの診断を用いた個人属性に関するデータを用いて、\n",
    "それらが離職に影響があるのかを見ます。\n"
   ]
  },
  {
   "cell_type": "markdown",
   "id": "a3225e46",
   "metadata": {},
   "source": [
    "## データの入手\n",
    "上記の通り、kaggleで入手できた離職データを用いて分析します。"
   ]
  },
  {
   "cell_type": "markdown",
   "id": "349a5bd8",
   "metadata": {},
   "source": [
    "## データの分析"
   ]
  },
  {
   "cell_type": "code",
   "execution_count": 1,
   "id": "cc4a2ce6",
   "metadata": {},
   "outputs": [],
   "source": [
    "#必要なモジュールのインポート\n",
    "import pandas as pd\n",
    "import numpy as np\n",
    "%matplotlib inline\n",
    "import matplotlib.pyplot as plt \n",
    "import statsmodels.formula.api as smf\n",
    "import statsmodels.api as sm\n",
    "import scipy.stats as stats"
   ]
  },
  {
   "cell_type": "code",
   "execution_count": 2,
   "id": "84ff500a",
   "metadata": {},
   "outputs": [],
   "source": [
    "df = pd.read_csv(\"turnover.csv\",encoding=\"ISO-8859-1\")"
   ]
  },
  {
   "cell_type": "code",
   "execution_count": 3,
   "id": "8ced347a",
   "metadata": {},
   "outputs": [
    {
     "data": {
      "text/html": [
       "<div>\n",
       "<style scoped>\n",
       "    .dataframe tbody tr th:only-of-type {\n",
       "        vertical-align: middle;\n",
       "    }\n",
       "\n",
       "    .dataframe tbody tr th {\n",
       "        vertical-align: top;\n",
       "    }\n",
       "\n",
       "    .dataframe thead th {\n",
       "        text-align: right;\n",
       "    }\n",
       "</style>\n",
       "<table border=\"1\" class=\"dataframe\">\n",
       "  <thead>\n",
       "    <tr style=\"text-align: right;\">\n",
       "      <th></th>\n",
       "      <th>stag</th>\n",
       "      <th>event</th>\n",
       "      <th>gender</th>\n",
       "      <th>age</th>\n",
       "      <th>industry</th>\n",
       "      <th>profession</th>\n",
       "      <th>traffic</th>\n",
       "      <th>coach</th>\n",
       "      <th>head_gender</th>\n",
       "      <th>greywage</th>\n",
       "      <th>way</th>\n",
       "      <th>extraversion</th>\n",
       "      <th>independ</th>\n",
       "      <th>selfcontrol</th>\n",
       "      <th>anxiety</th>\n",
       "      <th>novator</th>\n",
       "    </tr>\n",
       "  </thead>\n",
       "  <tbody>\n",
       "    <tr>\n",
       "      <th>0</th>\n",
       "      <td>7.030801</td>\n",
       "      <td>1</td>\n",
       "      <td>m</td>\n",
       "      <td>35.0</td>\n",
       "      <td>Banks</td>\n",
       "      <td>HR</td>\n",
       "      <td>rabrecNErab</td>\n",
       "      <td>no</td>\n",
       "      <td>f</td>\n",
       "      <td>white</td>\n",
       "      <td>bus</td>\n",
       "      <td>6.2</td>\n",
       "      <td>4.1</td>\n",
       "      <td>5.7</td>\n",
       "      <td>7.1</td>\n",
       "      <td>8.3</td>\n",
       "    </tr>\n",
       "    <tr>\n",
       "      <th>1</th>\n",
       "      <td>22.965092</td>\n",
       "      <td>1</td>\n",
       "      <td>m</td>\n",
       "      <td>33.0</td>\n",
       "      <td>Banks</td>\n",
       "      <td>HR</td>\n",
       "      <td>empjs</td>\n",
       "      <td>no</td>\n",
       "      <td>m</td>\n",
       "      <td>white</td>\n",
       "      <td>bus</td>\n",
       "      <td>6.2</td>\n",
       "      <td>4.1</td>\n",
       "      <td>5.7</td>\n",
       "      <td>7.1</td>\n",
       "      <td>8.3</td>\n",
       "    </tr>\n",
       "    <tr>\n",
       "      <th>2</th>\n",
       "      <td>15.934292</td>\n",
       "      <td>1</td>\n",
       "      <td>f</td>\n",
       "      <td>35.0</td>\n",
       "      <td>PowerGeneration</td>\n",
       "      <td>HR</td>\n",
       "      <td>rabrecNErab</td>\n",
       "      <td>no</td>\n",
       "      <td>m</td>\n",
       "      <td>white</td>\n",
       "      <td>bus</td>\n",
       "      <td>6.2</td>\n",
       "      <td>6.2</td>\n",
       "      <td>2.6</td>\n",
       "      <td>4.8</td>\n",
       "      <td>8.3</td>\n",
       "    </tr>\n",
       "    <tr>\n",
       "      <th>3</th>\n",
       "      <td>15.934292</td>\n",
       "      <td>1</td>\n",
       "      <td>f</td>\n",
       "      <td>35.0</td>\n",
       "      <td>PowerGeneration</td>\n",
       "      <td>HR</td>\n",
       "      <td>rabrecNErab</td>\n",
       "      <td>no</td>\n",
       "      <td>m</td>\n",
       "      <td>white</td>\n",
       "      <td>bus</td>\n",
       "      <td>5.4</td>\n",
       "      <td>7.6</td>\n",
       "      <td>4.9</td>\n",
       "      <td>2.5</td>\n",
       "      <td>6.7</td>\n",
       "    </tr>\n",
       "    <tr>\n",
       "      <th>4</th>\n",
       "      <td>8.410678</td>\n",
       "      <td>1</td>\n",
       "      <td>m</td>\n",
       "      <td>32.0</td>\n",
       "      <td>Retail</td>\n",
       "      <td>Commercial</td>\n",
       "      <td>youjs</td>\n",
       "      <td>yes</td>\n",
       "      <td>f</td>\n",
       "      <td>white</td>\n",
       "      <td>bus</td>\n",
       "      <td>3.0</td>\n",
       "      <td>4.1</td>\n",
       "      <td>8.0</td>\n",
       "      <td>7.1</td>\n",
       "      <td>3.7</td>\n",
       "    </tr>\n",
       "  </tbody>\n",
       "</table>\n",
       "</div>"
      ],
      "text/plain": [
       "        stag  event gender   age         industry  profession      traffic  \\\n",
       "0   7.030801      1      m  35.0            Banks          HR  rabrecNErab   \n",
       "1  22.965092      1      m  33.0            Banks          HR        empjs   \n",
       "2  15.934292      1      f  35.0  PowerGeneration          HR  rabrecNErab   \n",
       "3  15.934292      1      f  35.0  PowerGeneration          HR  rabrecNErab   \n",
       "4   8.410678      1      m  32.0           Retail  Commercial        youjs   \n",
       "\n",
       "  coach head_gender greywage  way  extraversion  independ  selfcontrol  \\\n",
       "0    no           f    white  bus           6.2       4.1          5.7   \n",
       "1    no           m    white  bus           6.2       4.1          5.7   \n",
       "2    no           m    white  bus           6.2       6.2          2.6   \n",
       "3    no           m    white  bus           5.4       7.6          4.9   \n",
       "4   yes           f    white  bus           3.0       4.1          8.0   \n",
       "\n",
       "   anxiety  novator  \n",
       "0      7.1      8.3  \n",
       "1      7.1      8.3  \n",
       "2      4.8      8.3  \n",
       "3      2.5      6.7  \n",
       "4      7.1      3.7  "
      ]
     },
     "execution_count": 3,
     "metadata": {},
     "output_type": "execute_result"
    }
   ],
   "source": [
    "df.head()"
   ]
  },
  {
   "cell_type": "code",
   "execution_count": 4,
   "id": "5c9cf1f9",
   "metadata": {},
   "outputs": [],
   "source": [
    "#このうち、会社への応募経路trafficと給与の支払い方法は結果に関連ないとみなしgreywagehの項目を除いた。\n",
    "df = df.drop([\"traffic\",\"greywage\"],axis='columns')"
   ]
  },
  {
   "cell_type": "code",
   "execution_count": 5,
   "id": "bc4d4b9c",
   "metadata": {},
   "outputs": [
    {
     "data": {
      "text/html": [
       "<div>\n",
       "<style scoped>\n",
       "    .dataframe tbody tr th:only-of-type {\n",
       "        vertical-align: middle;\n",
       "    }\n",
       "\n",
       "    .dataframe tbody tr th {\n",
       "        vertical-align: top;\n",
       "    }\n",
       "\n",
       "    .dataframe thead th {\n",
       "        text-align: right;\n",
       "    }\n",
       "</style>\n",
       "<table border=\"1\" class=\"dataframe\">\n",
       "  <thead>\n",
       "    <tr style=\"text-align: right;\">\n",
       "      <th></th>\n",
       "      <th>stag</th>\n",
       "      <th>event</th>\n",
       "      <th>gender</th>\n",
       "      <th>age</th>\n",
       "      <th>industry</th>\n",
       "      <th>profession</th>\n",
       "      <th>coach</th>\n",
       "      <th>head_gender</th>\n",
       "      <th>way</th>\n",
       "      <th>extraversion</th>\n",
       "      <th>independ</th>\n",
       "      <th>selfcontrol</th>\n",
       "      <th>anxiety</th>\n",
       "      <th>novator</th>\n",
       "    </tr>\n",
       "  </thead>\n",
       "  <tbody>\n",
       "    <tr>\n",
       "      <th>0</th>\n",
       "      <td>7.030801</td>\n",
       "      <td>1</td>\n",
       "      <td>m</td>\n",
       "      <td>35.0</td>\n",
       "      <td>Banks</td>\n",
       "      <td>HR</td>\n",
       "      <td>no</td>\n",
       "      <td>f</td>\n",
       "      <td>bus</td>\n",
       "      <td>6.2</td>\n",
       "      <td>4.1</td>\n",
       "      <td>5.7</td>\n",
       "      <td>7.1</td>\n",
       "      <td>8.3</td>\n",
       "    </tr>\n",
       "    <tr>\n",
       "      <th>1</th>\n",
       "      <td>22.965092</td>\n",
       "      <td>1</td>\n",
       "      <td>m</td>\n",
       "      <td>33.0</td>\n",
       "      <td>Banks</td>\n",
       "      <td>HR</td>\n",
       "      <td>no</td>\n",
       "      <td>m</td>\n",
       "      <td>bus</td>\n",
       "      <td>6.2</td>\n",
       "      <td>4.1</td>\n",
       "      <td>5.7</td>\n",
       "      <td>7.1</td>\n",
       "      <td>8.3</td>\n",
       "    </tr>\n",
       "    <tr>\n",
       "      <th>2</th>\n",
       "      <td>15.934292</td>\n",
       "      <td>1</td>\n",
       "      <td>f</td>\n",
       "      <td>35.0</td>\n",
       "      <td>PowerGeneration</td>\n",
       "      <td>HR</td>\n",
       "      <td>no</td>\n",
       "      <td>m</td>\n",
       "      <td>bus</td>\n",
       "      <td>6.2</td>\n",
       "      <td>6.2</td>\n",
       "      <td>2.6</td>\n",
       "      <td>4.8</td>\n",
       "      <td>8.3</td>\n",
       "    </tr>\n",
       "    <tr>\n",
       "      <th>3</th>\n",
       "      <td>15.934292</td>\n",
       "      <td>1</td>\n",
       "      <td>f</td>\n",
       "      <td>35.0</td>\n",
       "      <td>PowerGeneration</td>\n",
       "      <td>HR</td>\n",
       "      <td>no</td>\n",
       "      <td>m</td>\n",
       "      <td>bus</td>\n",
       "      <td>5.4</td>\n",
       "      <td>7.6</td>\n",
       "      <td>4.9</td>\n",
       "      <td>2.5</td>\n",
       "      <td>6.7</td>\n",
       "    </tr>\n",
       "    <tr>\n",
       "      <th>4</th>\n",
       "      <td>8.410678</td>\n",
       "      <td>1</td>\n",
       "      <td>m</td>\n",
       "      <td>32.0</td>\n",
       "      <td>Retail</td>\n",
       "      <td>Commercial</td>\n",
       "      <td>yes</td>\n",
       "      <td>f</td>\n",
       "      <td>bus</td>\n",
       "      <td>3.0</td>\n",
       "      <td>4.1</td>\n",
       "      <td>8.0</td>\n",
       "      <td>7.1</td>\n",
       "      <td>3.7</td>\n",
       "    </tr>\n",
       "  </tbody>\n",
       "</table>\n",
       "</div>"
      ],
      "text/plain": [
       "        stag  event gender   age         industry  profession coach  \\\n",
       "0   7.030801      1      m  35.0            Banks          HR    no   \n",
       "1  22.965092      1      m  33.0            Banks          HR    no   \n",
       "2  15.934292      1      f  35.0  PowerGeneration          HR    no   \n",
       "3  15.934292      1      f  35.0  PowerGeneration          HR    no   \n",
       "4   8.410678      1      m  32.0           Retail  Commercial   yes   \n",
       "\n",
       "  head_gender  way  extraversion  independ  selfcontrol  anxiety  novator  \n",
       "0           f  bus           6.2       4.1          5.7      7.1      8.3  \n",
       "1           m  bus           6.2       4.1          5.7      7.1      8.3  \n",
       "2           m  bus           6.2       6.2          2.6      4.8      8.3  \n",
       "3           m  bus           5.4       7.6          4.9      2.5      6.7  \n",
       "4           f  bus           3.0       4.1          8.0      7.1      3.7  "
      ]
     },
     "execution_count": 5,
     "metadata": {},
     "output_type": "execute_result"
    }
   ],
   "source": [
    "df.head()"
   ]
  },
  {
   "cell_type": "markdown",
   "id": "3b3ee66c",
   "metadata": {},
   "source": [
    "event = 離職したかどうか。離職した場合1。\n",
    "stag = 経験\n",
    "gender = 性別\n",
    "age = 年齢\n",
    "industry = 業種\n",
    "profession = 職種\n",
    "coach = 研修期間中にトレーナーがいたか\n",
    "way = 通勤手段\n",
    "extraversion = 外向性\n",
    "independ = 独立性\n",
    "self control = 勤勉性\n",
    "anxiety = 神経症傾向\n",
    "novator = 開放性"
   ]
  },
  {
   "cell_type": "code",
   "execution_count": 6,
   "id": "11ee4e6b",
   "metadata": {},
   "outputs": [
    {
     "data": {
      "text/html": [
       "<div>\n",
       "<style scoped>\n",
       "    .dataframe tbody tr th:only-of-type {\n",
       "        vertical-align: middle;\n",
       "    }\n",
       "\n",
       "    .dataframe tbody tr th {\n",
       "        vertical-align: top;\n",
       "    }\n",
       "\n",
       "    .dataframe thead th {\n",
       "        text-align: right;\n",
       "    }\n",
       "</style>\n",
       "<table border=\"1\" class=\"dataframe\">\n",
       "  <thead>\n",
       "    <tr style=\"text-align: right;\">\n",
       "      <th></th>\n",
       "      <th>stag</th>\n",
       "      <th>event</th>\n",
       "      <th>age</th>\n",
       "      <th>extraversion</th>\n",
       "      <th>independ</th>\n",
       "      <th>selfcontrol</th>\n",
       "      <th>anxiety</th>\n",
       "      <th>novator</th>\n",
       "    </tr>\n",
       "  </thead>\n",
       "  <tbody>\n",
       "    <tr>\n",
       "      <th>count</th>\n",
       "      <td>1129.000000</td>\n",
       "      <td>1129.000000</td>\n",
       "      <td>1129.000000</td>\n",
       "      <td>1129.000000</td>\n",
       "      <td>1129.000000</td>\n",
       "      <td>1129.000000</td>\n",
       "      <td>1129.000000</td>\n",
       "      <td>1129.000000</td>\n",
       "    </tr>\n",
       "    <tr>\n",
       "      <th>mean</th>\n",
       "      <td>36.627526</td>\n",
       "      <td>0.505757</td>\n",
       "      <td>31.066965</td>\n",
       "      <td>5.592383</td>\n",
       "      <td>5.478034</td>\n",
       "      <td>5.597254</td>\n",
       "      <td>5.665633</td>\n",
       "      <td>5.879628</td>\n",
       "    </tr>\n",
       "    <tr>\n",
       "      <th>std</th>\n",
       "      <td>34.096597</td>\n",
       "      <td>0.500188</td>\n",
       "      <td>6.996147</td>\n",
       "      <td>1.851637</td>\n",
       "      <td>1.703312</td>\n",
       "      <td>1.980101</td>\n",
       "      <td>1.709176</td>\n",
       "      <td>1.904016</td>\n",
       "    </tr>\n",
       "    <tr>\n",
       "      <th>min</th>\n",
       "      <td>0.394251</td>\n",
       "      <td>0.000000</td>\n",
       "      <td>18.000000</td>\n",
       "      <td>1.000000</td>\n",
       "      <td>1.000000</td>\n",
       "      <td>1.000000</td>\n",
       "      <td>1.700000</td>\n",
       "      <td>1.000000</td>\n",
       "    </tr>\n",
       "    <tr>\n",
       "      <th>25%</th>\n",
       "      <td>11.728953</td>\n",
       "      <td>0.000000</td>\n",
       "      <td>26.000000</td>\n",
       "      <td>4.600000</td>\n",
       "      <td>4.100000</td>\n",
       "      <td>4.100000</td>\n",
       "      <td>4.800000</td>\n",
       "      <td>4.400000</td>\n",
       "    </tr>\n",
       "    <tr>\n",
       "      <th>50%</th>\n",
       "      <td>24.344969</td>\n",
       "      <td>1.000000</td>\n",
       "      <td>30.000000</td>\n",
       "      <td>5.400000</td>\n",
       "      <td>5.500000</td>\n",
       "      <td>5.700000</td>\n",
       "      <td>5.600000</td>\n",
       "      <td>6.000000</td>\n",
       "    </tr>\n",
       "    <tr>\n",
       "      <th>75%</th>\n",
       "      <td>51.318275</td>\n",
       "      <td>1.000000</td>\n",
       "      <td>36.000000</td>\n",
       "      <td>7.000000</td>\n",
       "      <td>6.900000</td>\n",
       "      <td>7.200000</td>\n",
       "      <td>7.100000</td>\n",
       "      <td>7.500000</td>\n",
       "    </tr>\n",
       "    <tr>\n",
       "      <th>max</th>\n",
       "      <td>179.449692</td>\n",
       "      <td>1.000000</td>\n",
       "      <td>58.000000</td>\n",
       "      <td>10.000000</td>\n",
       "      <td>10.000000</td>\n",
       "      <td>10.000000</td>\n",
       "      <td>10.000000</td>\n",
       "      <td>10.000000</td>\n",
       "    </tr>\n",
       "  </tbody>\n",
       "</table>\n",
       "</div>"
      ],
      "text/plain": [
       "              stag        event          age  extraversion     independ  \\\n",
       "count  1129.000000  1129.000000  1129.000000   1129.000000  1129.000000   \n",
       "mean     36.627526     0.505757    31.066965      5.592383     5.478034   \n",
       "std      34.096597     0.500188     6.996147      1.851637     1.703312   \n",
       "min       0.394251     0.000000    18.000000      1.000000     1.000000   \n",
       "25%      11.728953     0.000000    26.000000      4.600000     4.100000   \n",
       "50%      24.344969     1.000000    30.000000      5.400000     5.500000   \n",
       "75%      51.318275     1.000000    36.000000      7.000000     6.900000   \n",
       "max     179.449692     1.000000    58.000000     10.000000    10.000000   \n",
       "\n",
       "       selfcontrol      anxiety      novator  \n",
       "count  1129.000000  1129.000000  1129.000000  \n",
       "mean      5.597254     5.665633     5.879628  \n",
       "std       1.980101     1.709176     1.904016  \n",
       "min       1.000000     1.700000     1.000000  \n",
       "25%       4.100000     4.800000     4.400000  \n",
       "50%       5.700000     5.600000     6.000000  \n",
       "75%       7.200000     7.100000     7.500000  \n",
       "max      10.000000    10.000000    10.000000  "
      ]
     },
     "execution_count": 6,
     "metadata": {},
     "output_type": "execute_result"
    }
   ],
   "source": [
    "df.describe()"
   ]
  },
  {
   "cell_type": "markdown",
   "id": "04be52d1",
   "metadata": {},
   "source": [
    "**項目「経験」の分散は大きそう。のちほどグラフで可視化する。**"
   ]
  },
  {
   "cell_type": "code",
   "execution_count": 7,
   "id": "407860d2",
   "metadata": {},
   "outputs": [
    {
     "data": {
      "text/plain": [
       "(1129, 14)"
      ]
     },
     "execution_count": 7,
     "metadata": {},
     "output_type": "execute_result"
    }
   ],
   "source": [
    "df.shape\n",
    "#1129名分の14項目のデータ"
   ]
  },
  {
   "cell_type": "code",
   "execution_count": 8,
   "id": "245a52c6",
   "metadata": {},
   "outputs": [
    {
     "data": {
      "text/plain": [
       "stag            float64\n",
       "event             int64\n",
       "gender           object\n",
       "age             float64\n",
       "industry         object\n",
       "profession       object\n",
       "coach            object\n",
       "head_gender      object\n",
       "way              object\n",
       "extraversion    float64\n",
       "independ        float64\n",
       "selfcontrol     float64\n",
       "anxiety         float64\n",
       "novator         float64\n",
       "dtype: object"
      ]
     },
     "execution_count": 8,
     "metadata": {},
     "output_type": "execute_result"
    }
   ],
   "source": [
    "df.dtypes"
   ]
  },
  {
   "cell_type": "code",
   "execution_count": 9,
   "id": "9a76f3b8",
   "metadata": {},
   "outputs": [
    {
     "data": {
      "text/plain": [
       "<matplotlib.axes._subplots.AxesSubplot at 0x7fa528bf7f40>"
      ]
     },
     "execution_count": 9,
     "metadata": {},
     "output_type": "execute_result"
    },
    {
     "data": {
      "image/png": "[encoded data removed]",
      "text/plain": [
       "<Figure size 432x288 with 1 Axes>"
      ]
     },
     "metadata": {
      "needs_background": "light"
     },
     "output_type": "display_data"
    }
   ],
   "source": [
    "df[\"event\"].hist()\n",
    "#離職したか、していないかだけなので、正規分布していない。\n",
    "#値は0か1しかとらない。"
   ]
  },
  {
   "cell_type": "markdown",
   "id": "8861bfe9",
   "metadata": {},
   "source": [
    "**予測値が0から1の範囲外にならないように、ロジスティック回帰が妥当。**"
   ]
  },
  {
   "cell_type": "code",
   "execution_count": 10,
   "id": "35fafd79",
   "metadata": {},
   "outputs": [
    {
     "data": {
      "text/plain": [
       "<matplotlib.axes._subplots.AxesSubplot at 0x7fa526ad6610>"
      ]
     },
     "execution_count": 10,
     "metadata": {},
     "output_type": "execute_result"
    },
    {
     "data": {
      "image/png": "[encoded data removed]",
      "text/plain": [
       "<Figure size 432x288 with 1 Axes>"
      ]
     },
     "metadata": {
      "needs_background": "light"
     },
     "output_type": "display_data"
    }
   ],
   "source": [
    "df_group_industry = df.groupby(\"industry\")[\"event\"].mean()\n",
    "df_group_industry.plot.bar(by = \"industry\")\n",
    "#IT、通信、不動産業は離職率が比較的低い一方で建設業や農業、金融、公的サービスの離職率は比較的高い。"
   ]
  },
  {
   "cell_type": "markdown",
   "id": "e5df2b51",
   "metadata": {},
   "source": [
    "**働く業界によって離職率が異なるとの仮説ができる。**"
   ]
  },
  {
   "cell_type": "code",
   "execution_count": 11,
   "id": "22dcffd2",
   "metadata": {},
   "outputs": [
    {
     "data": {
      "text/plain": [
       "<matplotlib.axes._subplots.AxesSubplot at 0x7fa5263a9670>"
      ]
     },
     "execution_count": 11,
     "metadata": {},
     "output_type": "execute_result"
    },
    {
     "data": {
      "image/png": "[encoded data removed]",
      "text/plain": [
       "<Figure size 432x288 with 1 Axes>"
      ]
     },
     "metadata": {
      "needs_background": "light"
     },
     "output_type": "display_data"
    }
   ],
   "source": [
    "df_group_profession = df.groupby(\"profession\")[\"event\"].mean()\n",
    "df_group_profession.plot.bar(by = \"profession\")\n",
    "#教師や広告関係の職種の離職率は比較的高い。"
   ]
  },
  {
   "cell_type": "markdown",
   "id": "d6de2837",
   "metadata": {},
   "source": [
    "**働く職種によって離職率が異なるとの仮説ができる。**"
   ]
  },
  {
   "cell_type": "code",
   "execution_count": 12,
   "id": "5e283600",
   "metadata": {},
   "outputs": [
    {
     "data": {
      "text/plain": [
       "bus     681\n",
       "car     331\n",
       "foot    117\n",
       "Name: way, dtype: int64"
      ]
     },
     "execution_count": 12,
     "metadata": {},
     "output_type": "execute_result"
    }
   ],
   "source": [
    "df[\"way\"].value_counts()"
   ]
  },
  {
   "cell_type": "code",
   "execution_count": 13,
   "id": "3f836f5a",
   "metadata": {},
   "outputs": [
    {
     "data": {
      "text/plain": [
       "<matplotlib.axes._subplots.AxesSubplot at 0x7fa5263a3f40>"
      ]
     },
     "execution_count": 13,
     "metadata": {},
     "output_type": "execute_result"
    },
    {
     "data": {
      "image/png": "[encoded data removed]",
      "text/plain": [
       "<Figure size 432x288 with 1 Axes>"
      ]
     },
     "metadata": {
      "needs_background": "light"
     },
     "output_type": "display_data"
    }
   ],
   "source": [
    "df[\"way\"].hist()"
   ]
  },
  {
   "cell_type": "markdown",
   "id": "d2dddbef",
   "metadata": {},
   "source": [
    "**徒歩の場合は通勤時間が短いと考えられる。**"
   ]
  },
  {
   "cell_type": "code",
   "execution_count": 14,
   "id": "aa72aa1b",
   "metadata": {},
   "outputs": [
    {
     "name": "stderr",
     "output_type": "stream",
     "text": [
      "/tmp/ipykernel_23622/964150133.py:2: UserWarning: To output multiple subplots, the figure containing the passed axes is being cleared\n",
      "  df[[\"stag\",\"age\",\"gender\",\"coach\",\"head_gender\",\"extraversion\",\"independ\",\"selfcontrol\",\"anxiety\",\"novator\"]].hist(ax = ax)\n"
     ]
    },
    {
     "data": {
      "text/plain": [
       "array([[<matplotlib.axes._subplots.AxesSubplot object at 0x7fa526315b50>,\n",
       "        <matplotlib.axes._subplots.AxesSubplot object at 0x7fa526276c40>,\n",
       "        <matplotlib.axes._subplots.AxesSubplot object at 0x7fa5262a3100>],\n",
       "       [<matplotlib.axes._subplots.AxesSubplot object at 0x7fa52625d4c0>,\n",
       "        <matplotlib.axes._subplots.AxesSubplot object at 0x7fa5262049d0>,\n",
       "        <matplotlib.axes._subplots.AxesSubplot object at 0x7fa5261b3d00>],\n",
       "       [<matplotlib.axes._subplots.AxesSubplot object at 0x7fa5261b3df0>,\n",
       "        <matplotlib.axes._subplots.AxesSubplot object at 0x7fa526196610>,\n",
       "        <matplotlib.axes._subplots.AxesSubplot object at 0x7fa526137ac0>]],\n",
       "      dtype=object)"
      ]
     },
     "execution_count": 14,
     "metadata": {},
     "output_type": "execute_result"
    },
    {
     "data": {
      "image/png": "[encoded data removed]",
      "text/plain": [
       "<Figure size 720x720 with 9 Axes>"
      ]
     },
     "metadata": {
      "needs_background": "light"
     },
     "output_type": "display_data"
    }
   ],
   "source": [
    "fig, ax = plt.subplots(figsize=(10,10))\n",
    "df[[\"stag\",\"age\",\"gender\",\"coach\",\"head_gender\",\"extraversion\",\"independ\",\"selfcontrol\",\"anxiety\",\"novator\"]].hist(ax = ax)"
   ]
  },
  {
   "cell_type": "markdown",
   "id": "740554d0",
   "metadata": {},
   "source": [
    "**「年齢age」と「経験stag」は偏った分布となっている。正規分布させると、標準化できるため、「年齢」と「経験」の項目を対数変換してみる。その後正規分布検定を見て、問題なければそのあと標準化する。**"
   ]
  },
  {
   "cell_type": "code",
   "execution_count": 15,
   "id": "1f4efcff",
   "metadata": {},
   "outputs": [],
   "source": [
    "#年齢と経験の列を対数変換する。\n",
    "df['age_log'] = np.log1p(df['age'])\n",
    "df['stag_log'] = np.log1p(df['stag'])"
   ]
  },
  {
   "cell_type": "code",
   "execution_count": 16,
   "id": "358ad095",
   "metadata": {},
   "outputs": [
    {
     "name": "stderr",
     "output_type": "stream",
     "text": [
      "/tmp/ipykernel_23622/632451312.py:2: UserWarning: To output multiple subplots, the figure containing the passed axes is being cleared\n",
      "  df[[\"stag_log\",\"age_log\",\"gender\",\"coach\",\"head_gender\",\"extraversion\",\"independ\",\"selfcontrol\",\"anxiety\",\"novator\"]].hist(ax = ax)\n"
     ]
    },
    {
     "data": {
      "text/plain": [
       "array([[<matplotlib.axes._subplots.AxesSubplot object at 0x7fa526b2e160>,\n",
       "        <matplotlib.axes._subplots.AxesSubplot object at 0x7fa525b9c310>,\n",
       "        <matplotlib.axes._subplots.AxesSubplot object at 0x7fa525bc3a60>],\n",
       "       [<matplotlib.axes._subplots.AxesSubplot object at 0x7fa525b7a1c0>,\n",
       "        <matplotlib.axes._subplots.AxesSubplot object at 0x7fa525b228e0>,\n",
       "        <matplotlib.axes._subplots.AxesSubplot object at 0x7fa525ad2520>],\n",
       "       [<matplotlib.axes._subplots.AxesSubplot object at 0x7fa525ad2610>,\n",
       "        <matplotlib.axes._subplots.AxesSubplot object at 0x7fa525ab2490>,\n",
       "        <matplotlib.axes._subplots.AxesSubplot object at 0x7fa525a50c70>]],\n",
       "      dtype=object)"
      ]
     },
     "execution_count": 16,
     "metadata": {},
     "output_type": "execute_result"
    },
    {
     "data": {
      "image/png": "[encoded data removed]",
      "text/plain": [
       "<Figure size 720x720 with 9 Axes>"
      ]
     },
     "metadata": {
      "needs_background": "light"
     },
     "output_type": "display_data"
    }
   ],
   "source": [
    "fig, ax = plt.subplots(figsize=(10,10))\n",
    "df[[\"stag_log\",\"age_log\",\"gender\",\"coach\",\"head_gender\",\"extraversion\",\"independ\",\"selfcontrol\",\"anxiety\",\"novator\"]].hist(ax = ax)"
   ]
  },
  {
   "cell_type": "markdown",
   "id": "3b569250",
   "metadata": {},
   "source": [
    "**データが正規分布しているか正規化検定を行う。**"
   ]
  },
  {
   "cell_type": "code",
   "execution_count": 17,
   "id": "4ce7798b",
   "metadata": {},
   "outputs": [
    {
     "name": "stdout",
     "output_type": "stream",
     "text": [
      "P値: 0.00000\n"
     ]
    }
   ],
   "source": [
    "W,p = stats.shapiro(df[\"selfcontrol\"])\n",
    "print(f\"P値: {p:.5f}\")"
   ]
  },
  {
   "cell_type": "markdown",
   "id": "3fc868b6",
   "metadata": {},
   "source": [
    "シャピロ・ウィルク検定では、母集団は正規分布であるという帰無仮説が棄却された。"
   ]
  },
  {
   "cell_type": "code",
   "execution_count": 18,
   "id": "1975d11d",
   "metadata": {},
   "outputs": [
    {
     "name": "stdout",
     "output_type": "stream",
     "text": [
      "P値: 0.00000\n"
     ]
    }
   ],
   "source": [
    "stats.kstest(df[\"age_log\"], \"norm\")\n",
    "print(f\"P値: {p:.5f}\")"
   ]
  },
  {
   "cell_type": "markdown",
   "id": "30f3ea51",
   "metadata": {},
   "source": [
    "コルモゴロフ・スミルノフ検定でも、母集団は正規分布であるという帰無仮説が棄却された。\n",
    "「経験」と「年齢」は母集団が正規分布していないため、これらの説明変数の標準化はしない。"
   ]
  },
  {
   "cell_type": "code",
   "execution_count": 19,
   "id": "76fd25e1",
   "metadata": {},
   "outputs": [],
   "source": [
    "df = df.drop(columns = [\"age_log\", \"stag_log\"])"
   ]
  },
  {
   "cell_type": "markdown",
   "id": "521a8a87",
   "metadata": {},
   "source": [
    "**対数変換したデータを削除しておく**"
   ]
  },
  {
   "cell_type": "markdown",
   "id": "e64eec3e",
   "metadata": {},
   "source": [
    "## データの下処理"
   ]
  },
  {
   "cell_type": "markdown",
   "id": "542cf289",
   "metadata": {},
   "source": [
    "**欠損値の確認 :\n",
    "欠損値はなし**"
   ]
  },
  {
   "cell_type": "code",
   "execution_count": 20,
   "id": "4e95e4f0",
   "metadata": {},
   "outputs": [
    {
     "data": {
      "text/plain": [
       "stag            0\n",
       "event           0\n",
       "gender          0\n",
       "age             0\n",
       "industry        0\n",
       "profession      0\n",
       "coach           0\n",
       "head_gender     0\n",
       "way             0\n",
       "extraversion    0\n",
       "independ        0\n",
       "selfcontrol     0\n",
       "anxiety         0\n",
       "novator         0\n",
       "dtype: int64"
      ]
     },
     "execution_count": 20,
     "metadata": {},
     "output_type": "execute_result"
    }
   ],
   "source": [
    "df.isnull().sum()\n",
    "#欠損値なし"
   ]
  },
  {
   "cell_type": "markdown",
   "id": "b71e9e90",
   "metadata": {},
   "source": [
    "**カテゴリカル変数への変換 :     \n",
    "df.dtypesでobject型だった列名\"gender\",\"age\",\"industry\",\"profession\",\"coach\",\"head_gender\",\"way\" をカテゴリカル変数に変換する。**\n",
    "  "
   ]
  },
  {
   "cell_type": "code",
   "execution_count": 21,
   "id": "190a7762",
   "metadata": {},
   "outputs": [
    {
     "data": {
      "text/html": [
       "<div>\n",
       "<style scoped>\n",
       "    .dataframe tbody tr th:only-of-type {\n",
       "        vertical-align: middle;\n",
       "    }\n",
       "\n",
       "    .dataframe tbody tr th {\n",
       "        vertical-align: top;\n",
       "    }\n",
       "\n",
       "    .dataframe thead th {\n",
       "        text-align: right;\n",
       "    }\n",
       "</style>\n",
       "<table border=\"1\" class=\"dataframe\">\n",
       "  <thead>\n",
       "    <tr style=\"text-align: right;\">\n",
       "      <th></th>\n",
       "      <th>stag</th>\n",
       "      <th>event</th>\n",
       "      <th>age</th>\n",
       "      <th>extraversion</th>\n",
       "      <th>independ</th>\n",
       "      <th>selfcontrol</th>\n",
       "      <th>anxiety</th>\n",
       "      <th>novator</th>\n",
       "      <th>gender_f</th>\n",
       "      <th>gender_m</th>\n",
       "      <th>...</th>\n",
       "      <th>profession_etc</th>\n",
       "      <th>profession_manage</th>\n",
       "      <th>coach_my head</th>\n",
       "      <th>coach_no</th>\n",
       "      <th>coach_yes</th>\n",
       "      <th>head_gender_f</th>\n",
       "      <th>head_gender_m</th>\n",
       "      <th>way_bus</th>\n",
       "      <th>way_car</th>\n",
       "      <th>way_foot</th>\n",
       "    </tr>\n",
       "  </thead>\n",
       "  <tbody>\n",
       "    <tr>\n",
       "      <th>0</th>\n",
       "      <td>7.030801</td>\n",
       "      <td>1</td>\n",
       "      <td>35.0</td>\n",
       "      <td>6.2</td>\n",
       "      <td>4.1</td>\n",
       "      <td>5.7</td>\n",
       "      <td>7.1</td>\n",
       "      <td>8.3</td>\n",
       "      <td>0</td>\n",
       "      <td>1</td>\n",
       "      <td>...</td>\n",
       "      <td>0</td>\n",
       "      <td>0</td>\n",
       "      <td>0</td>\n",
       "      <td>1</td>\n",
       "      <td>0</td>\n",
       "      <td>1</td>\n",
       "      <td>0</td>\n",
       "      <td>1</td>\n",
       "      <td>0</td>\n",
       "      <td>0</td>\n",
       "    </tr>\n",
       "    <tr>\n",
       "      <th>1</th>\n",
       "      <td>22.965092</td>\n",
       "      <td>1</td>\n",
       "      <td>33.0</td>\n",
       "      <td>6.2</td>\n",
       "      <td>4.1</td>\n",
       "      <td>5.7</td>\n",
       "      <td>7.1</td>\n",
       "      <td>8.3</td>\n",
       "      <td>0</td>\n",
       "      <td>1</td>\n",
       "      <td>...</td>\n",
       "      <td>0</td>\n",
       "      <td>0</td>\n",
       "      <td>0</td>\n",
       "      <td>1</td>\n",
       "      <td>0</td>\n",
       "      <td>0</td>\n",
       "      <td>1</td>\n",
       "      <td>1</td>\n",
       "      <td>0</td>\n",
       "      <td>0</td>\n",
       "    </tr>\n",
       "    <tr>\n",
       "      <th>2</th>\n",
       "      <td>15.934292</td>\n",
       "      <td>1</td>\n",
       "      <td>35.0</td>\n",
       "      <td>6.2</td>\n",
       "      <td>6.2</td>\n",
       "      <td>2.6</td>\n",
       "      <td>4.8</td>\n",
       "      <td>8.3</td>\n",
       "      <td>1</td>\n",
       "      <td>0</td>\n",
       "      <td>...</td>\n",
       "      <td>0</td>\n",
       "      <td>0</td>\n",
       "      <td>0</td>\n",
       "      <td>1</td>\n",
       "      <td>0</td>\n",
       "      <td>0</td>\n",
       "      <td>1</td>\n",
       "      <td>1</td>\n",
       "      <td>0</td>\n",
       "      <td>0</td>\n",
       "    </tr>\n",
       "    <tr>\n",
       "      <th>3</th>\n",
       "      <td>15.934292</td>\n",
       "      <td>1</td>\n",
       "      <td>35.0</td>\n",
       "      <td>5.4</td>\n",
       "      <td>7.6</td>\n",
       "      <td>4.9</td>\n",
       "      <td>2.5</td>\n",
       "      <td>6.7</td>\n",
       "      <td>1</td>\n",
       "      <td>0</td>\n",
       "      <td>...</td>\n",
       "      <td>0</td>\n",
       "      <td>0</td>\n",
       "      <td>0</td>\n",
       "      <td>1</td>\n",
       "      <td>0</td>\n",
       "      <td>0</td>\n",
       "      <td>1</td>\n",
       "      <td>1</td>\n",
       "      <td>0</td>\n",
       "      <td>0</td>\n",
       "    </tr>\n",
       "    <tr>\n",
       "      <th>4</th>\n",
       "      <td>8.410678</td>\n",
       "      <td>1</td>\n",
       "      <td>32.0</td>\n",
       "      <td>3.0</td>\n",
       "      <td>4.1</td>\n",
       "      <td>8.0</td>\n",
       "      <td>7.1</td>\n",
       "      <td>3.7</td>\n",
       "      <td>0</td>\n",
       "      <td>1</td>\n",
       "      <td>...</td>\n",
       "      <td>0</td>\n",
       "      <td>0</td>\n",
       "      <td>0</td>\n",
       "      <td>0</td>\n",
       "      <td>1</td>\n",
       "      <td>1</td>\n",
       "      <td>0</td>\n",
       "      <td>1</td>\n",
       "      <td>0</td>\n",
       "      <td>0</td>\n",
       "    </tr>\n",
       "  </tbody>\n",
       "</table>\n",
       "<p>5 rows × 49 columns</p>\n",
       "</div>"
      ],
      "text/plain": [
       "        stag  event   age  extraversion  independ  selfcontrol  anxiety  \\\n",
       "0   7.030801      1  35.0           6.2       4.1          5.7      7.1   \n",
       "1  22.965092      1  33.0           6.2       4.1          5.7      7.1   \n",
       "2  15.934292      1  35.0           6.2       6.2          2.6      4.8   \n",
       "3  15.934292      1  35.0           5.4       7.6          4.9      2.5   \n",
       "4   8.410678      1  32.0           3.0       4.1          8.0      7.1   \n",
       "\n",
       "   novator  gender_f  gender_m  ...  profession_etc  profession_manage  \\\n",
       "0      8.3         0         1  ...               0                  0   \n",
       "1      8.3         0         1  ...               0                  0   \n",
       "2      8.3         1         0  ...               0                  0   \n",
       "3      6.7         1         0  ...               0                  0   \n",
       "4      3.7         0         1  ...               0                  0   \n",
       "\n",
       "   coach_my head  coach_no  coach_yes  head_gender_f  head_gender_m  way_bus  \\\n",
       "0              0         1          0              1              0        1   \n",
       "1              0         1          0              0              1        1   \n",
       "2              0         1          0              0              1        1   \n",
       "3              0         1          0              0              1        1   \n",
       "4              0         0          1              1              0        1   \n",
       "\n",
       "   way_car  way_foot  \n",
       "0        0         0  \n",
       "1        0         0  \n",
       "2        0         0  \n",
       "3        0         0  \n",
       "4        0         0  \n",
       "\n",
       "[5 rows x 49 columns]"
      ]
     },
     "execution_count": 21,
     "metadata": {},
     "output_type": "execute_result"
    }
   ],
   "source": [
    "df_with_dummy = pd.get_dummies(data = df)\n",
    "df_with_dummy.head()"
   ]
  },
  {
   "cell_type": "code",
   "execution_count": 22,
   "id": "2884a9aa",
   "metadata": {},
   "outputs": [],
   "source": [
    "#文字化けしている列を直す\n",
    "df_with_dummy[\"coach_head\"] = df_with_dummy[\"coach_my head\"]\n",
    "df_with_dummy[\"industry_HoReCa\"] = df_with_dummy[\"industry_ HoReCa\"]\n",
    "df_with_dummy[\"profession_Finance\"] = df_with_dummy[\"profession_Finanñe\"]\n",
    "df_with_dummy[\"profession_Sales_revised\"] = df_with_dummy[\"profession_Sales\"]\n",
    "df_with_dummy_revised = df_with_dummy.drop(columns = [\"coach_my head\",\"industry_ HoReCa\",\"profession_Finanñe\",\"profession_Sales\"])"
   ]
  },
  {
   "cell_type": "markdown",
   "id": "09b8b28d",
   "metadata": {},
   "source": [
    "**相関行列で相関を確認する**"
   ]
  },
  {
   "cell_type": "code",
   "execution_count": 23,
   "id": "2b272fdb",
   "metadata": {},
   "outputs": [
    {
     "data": {
      "text/html": [
       "<div>\n",
       "<style scoped>\n",
       "    .dataframe tbody tr th:only-of-type {\n",
       "        vertical-align: middle;\n",
       "    }\n",
       "\n",
       "    .dataframe tbody tr th {\n",
       "        vertical-align: top;\n",
       "    }\n",
       "\n",
       "    .dataframe thead th {\n",
       "        text-align: right;\n",
       "    }\n",
       "</style>\n",
       "<table border=\"1\" class=\"dataframe\">\n",
       "  <thead>\n",
       "    <tr style=\"text-align: right;\">\n",
       "      <th></th>\n",
       "      <th>stag</th>\n",
       "      <th>event</th>\n",
       "      <th>age</th>\n",
       "      <th>extraversion</th>\n",
       "      <th>independ</th>\n",
       "      <th>selfcontrol</th>\n",
       "      <th>anxiety</th>\n",
       "      <th>novator</th>\n",
       "      <th>gender_f</th>\n",
       "      <th>gender_m</th>\n",
       "      <th>...</th>\n",
       "      <th>coach_yes</th>\n",
       "      <th>head_gender_f</th>\n",
       "      <th>head_gender_m</th>\n",
       "      <th>way_bus</th>\n",
       "      <th>way_car</th>\n",
       "      <th>way_foot</th>\n",
       "      <th>coach_head</th>\n",
       "      <th>industry_HoReCa</th>\n",
       "      <th>profession_Finance</th>\n",
       "      <th>profession_Sales_revised</th>\n",
       "    </tr>\n",
       "  </thead>\n",
       "  <tbody>\n",
       "    <tr>\n",
       "      <th>stag</th>\n",
       "      <td>1.000000</td>\n",
       "      <td>0.048361</td>\n",
       "      <td>0.197381</td>\n",
       "      <td>0.088227</td>\n",
       "      <td>0.000550</td>\n",
       "      <td>0.077076</td>\n",
       "      <td>0.014755</td>\n",
       "      <td>0.037633</td>\n",
       "      <td>0.042269</td>\n",
       "      <td>0.042269</td>\n",
       "      <td>...</td>\n",
       "      <td>0.000513</td>\n",
       "      <td>0.006827</td>\n",
       "      <td>0.006827</td>\n",
       "      <td>0.099126</td>\n",
       "      <td>0.102824</td>\n",
       "      <td>0.005540</td>\n",
       "      <td>0.019235</td>\n",
       "      <td>0.005838</td>\n",
       "      <td>0.083865</td>\n",
       "      <td>0.004171</td>\n",
       "    </tr>\n",
       "    <tr>\n",
       "      <th>event</th>\n",
       "      <td>0.048361</td>\n",
       "      <td>1.000000</td>\n",
       "      <td>0.048751</td>\n",
       "      <td>0.015458</td>\n",
       "      <td>0.051864</td>\n",
       "      <td>0.040040</td>\n",
       "      <td>0.063232</td>\n",
       "      <td>0.006825</td>\n",
       "      <td>0.018917</td>\n",
       "      <td>0.018917</td>\n",
       "      <td>...</td>\n",
       "      <td>0.045431</td>\n",
       "      <td>0.041259</td>\n",
       "      <td>0.041259</td>\n",
       "      <td>0.034688</td>\n",
       "      <td>0.025663</td>\n",
       "      <td>0.094012</td>\n",
       "      <td>0.054593</td>\n",
       "      <td>0.007876</td>\n",
       "      <td>0.049492</td>\n",
       "      <td>0.012233</td>\n",
       "    </tr>\n",
       "    <tr>\n",
       "      <th>age</th>\n",
       "      <td>0.197381</td>\n",
       "      <td>0.048751</td>\n",
       "      <td>1.000000</td>\n",
       "      <td>0.149753</td>\n",
       "      <td>0.056129</td>\n",
       "      <td>0.038996</td>\n",
       "      <td>0.057782</td>\n",
       "      <td>0.039509</td>\n",
       "      <td>0.055559</td>\n",
       "      <td>0.055559</td>\n",
       "      <td>...</td>\n",
       "      <td>0.180709</td>\n",
       "      <td>0.197833</td>\n",
       "      <td>0.197833</td>\n",
       "      <td>0.097706</td>\n",
       "      <td>0.119875</td>\n",
       "      <td>0.022206</td>\n",
       "      <td>0.193528</td>\n",
       "      <td>0.024840</td>\n",
       "      <td>0.027314</td>\n",
       "      <td>0.046656</td>\n",
       "    </tr>\n",
       "    <tr>\n",
       "      <th>extraversion</th>\n",
       "      <td>0.088227</td>\n",
       "      <td>0.015458</td>\n",
       "      <td>0.149753</td>\n",
       "      <td>1.000000</td>\n",
       "      <td>0.200052</td>\n",
       "      <td>0.538039</td>\n",
       "      <td>0.135046</td>\n",
       "      <td>0.297375</td>\n",
       "      <td>0.146428</td>\n",
       "      <td>0.146428</td>\n",
       "      <td>...</td>\n",
       "      <td>0.087881</td>\n",
       "      <td>0.006274</td>\n",
       "      <td>0.006274</td>\n",
       "      <td>0.036401</td>\n",
       "      <td>0.045123</td>\n",
       "      <td>0.008964</td>\n",
       "      <td>0.024129</td>\n",
       "      <td>0.064878</td>\n",
       "      <td>0.017800</td>\n",
       "      <td>0.037335</td>\n",
       "    </tr>\n",
       "    <tr>\n",
       "      <th>independ</th>\n",
       "      <td>0.000550</td>\n",
       "      <td>0.051864</td>\n",
       "      <td>0.056129</td>\n",
       "      <td>0.200052</td>\n",
       "      <td>1.000000</td>\n",
       "      <td>0.165795</td>\n",
       "      <td>0.427209</td>\n",
       "      <td>0.023865</td>\n",
       "      <td>0.124849</td>\n",
       "      <td>0.124849</td>\n",
       "      <td>...</td>\n",
       "      <td>0.032542</td>\n",
       "      <td>0.045154</td>\n",
       "      <td>0.045154</td>\n",
       "      <td>0.038238</td>\n",
       "      <td>0.047461</td>\n",
       "      <td>0.009508</td>\n",
       "      <td>0.031578</td>\n",
       "      <td>0.050536</td>\n",
       "      <td>0.032153</td>\n",
       "      <td>0.016964</td>\n",
       "    </tr>\n",
       "  </tbody>\n",
       "</table>\n",
       "<p>5 rows × 49 columns</p>\n",
       "</div>"
      ],
      "text/plain": [
       "                  stag     event       age  extraversion  independ  \\\n",
       "stag          1.000000  0.048361  0.197381      0.088227  0.000550   \n",
       "event         0.048361  1.000000  0.048751      0.015458  0.051864   \n",
       "age           0.197381  0.048751  1.000000      0.149753  0.056129   \n",
       "extraversion  0.088227  0.015458  0.149753      1.000000  0.200052   \n",
       "independ      0.000550  0.051864  0.056129      0.200052  1.000000   \n",
       "\n",
       "              selfcontrol   anxiety   novator  gender_f  gender_m  ...  \\\n",
       "stag             0.077076  0.014755  0.037633  0.042269  0.042269  ...   \n",
       "event            0.040040  0.063232  0.006825  0.018917  0.018917  ...   \n",
       "age              0.038996  0.057782  0.039509  0.055559  0.055559  ...   \n",
       "extraversion     0.538039  0.135046  0.297375  0.146428  0.146428  ...   \n",
       "independ         0.165795  0.427209  0.023865  0.124849  0.124849  ...   \n",
       "\n",
       "              coach_yes  head_gender_f  head_gender_m   way_bus   way_car  \\\n",
       "stag           0.000513       0.006827       0.006827  0.099126  0.102824   \n",
       "event          0.045431       0.041259       0.041259  0.034688  0.025663   \n",
       "age            0.180709       0.197833       0.197833  0.097706  0.119875   \n",
       "extraversion   0.087881       0.006274       0.006274  0.036401  0.045123   \n",
       "independ       0.032542       0.045154       0.045154  0.038238  0.047461   \n",
       "\n",
       "              way_foot  coach_head  industry_HoReCa  profession_Finance  \\\n",
       "stag          0.005540    0.019235         0.005838            0.083865   \n",
       "event         0.094012    0.054593         0.007876            0.049492   \n",
       "age           0.022206    0.193528         0.024840            0.027314   \n",
       "extraversion  0.008964    0.024129         0.064878            0.017800   \n",
       "independ      0.009508    0.031578         0.050536            0.032153   \n",
       "\n",
       "              profession_Sales_revised  \n",
       "stag                          0.004171  \n",
       "event                         0.012233  \n",
       "age                           0.046656  \n",
       "extraversion                  0.037335  \n",
       "independ                      0.016964  \n",
       "\n",
       "[5 rows x 49 columns]"
      ]
     },
     "execution_count": 23,
     "metadata": {},
     "output_type": "execute_result"
    }
   ],
   "source": [
    "corr_matrix = df_with_dummy_revised.corr().abs()\n",
    "corr_matrix.head()"
   ]
  },
  {
   "cell_type": "code",
   "execution_count": 24,
   "id": "889da169",
   "metadata": {},
   "outputs": [
    {
     "data": {
      "text/html": [
       "<div>\n",
       "<style scoped>\n",
       "    .dataframe tbody tr th:only-of-type {\n",
       "        vertical-align: middle;\n",
       "    }\n",
       "\n",
       "    .dataframe tbody tr th {\n",
       "        vertical-align: top;\n",
       "    }\n",
       "\n",
       "    .dataframe thead th {\n",
       "        text-align: right;\n",
       "    }\n",
       "</style>\n",
       "<table border=\"1\" class=\"dataframe\">\n",
       "  <thead>\n",
       "    <tr style=\"text-align: right;\">\n",
       "      <th></th>\n",
       "      <th>stag</th>\n",
       "      <th>event</th>\n",
       "      <th>age</th>\n",
       "      <th>extraversion</th>\n",
       "      <th>independ</th>\n",
       "      <th>selfcontrol</th>\n",
       "      <th>anxiety</th>\n",
       "      <th>novator</th>\n",
       "      <th>gender_f</th>\n",
       "      <th>gender_m</th>\n",
       "      <th>...</th>\n",
       "      <th>coach_yes</th>\n",
       "      <th>head_gender_f</th>\n",
       "      <th>head_gender_m</th>\n",
       "      <th>way_bus</th>\n",
       "      <th>way_car</th>\n",
       "      <th>way_foot</th>\n",
       "      <th>coach_head</th>\n",
       "      <th>industry_HoReCa</th>\n",
       "      <th>profession_Finance</th>\n",
       "      <th>profession_Sales_revised</th>\n",
       "    </tr>\n",
       "  </thead>\n",
       "  <tbody>\n",
       "    <tr>\n",
       "      <th>stag</th>\n",
       "      <td>NaN</td>\n",
       "      <td>0.048361</td>\n",
       "      <td>0.197381</td>\n",
       "      <td>0.088227</td>\n",
       "      <td>0.000550</td>\n",
       "      <td>0.077076</td>\n",
       "      <td>0.014755</td>\n",
       "      <td>0.037633</td>\n",
       "      <td>0.042269</td>\n",
       "      <td>0.042269</td>\n",
       "      <td>...</td>\n",
       "      <td>0.000513</td>\n",
       "      <td>0.006827</td>\n",
       "      <td>0.006827</td>\n",
       "      <td>0.099126</td>\n",
       "      <td>0.102824</td>\n",
       "      <td>0.005540</td>\n",
       "      <td>0.019235</td>\n",
       "      <td>0.005838</td>\n",
       "      <td>0.083865</td>\n",
       "      <td>0.004171</td>\n",
       "    </tr>\n",
       "    <tr>\n",
       "      <th>event</th>\n",
       "      <td>NaN</td>\n",
       "      <td>NaN</td>\n",
       "      <td>0.048751</td>\n",
       "      <td>0.015458</td>\n",
       "      <td>0.051864</td>\n",
       "      <td>0.040040</td>\n",
       "      <td>0.063232</td>\n",
       "      <td>0.006825</td>\n",
       "      <td>0.018917</td>\n",
       "      <td>0.018917</td>\n",
       "      <td>...</td>\n",
       "      <td>0.045431</td>\n",
       "      <td>0.041259</td>\n",
       "      <td>0.041259</td>\n",
       "      <td>0.034688</td>\n",
       "      <td>0.025663</td>\n",
       "      <td>0.094012</td>\n",
       "      <td>0.054593</td>\n",
       "      <td>0.007876</td>\n",
       "      <td>0.049492</td>\n",
       "      <td>0.012233</td>\n",
       "    </tr>\n",
       "    <tr>\n",
       "      <th>age</th>\n",
       "      <td>NaN</td>\n",
       "      <td>NaN</td>\n",
       "      <td>NaN</td>\n",
       "      <td>0.149753</td>\n",
       "      <td>0.056129</td>\n",
       "      <td>0.038996</td>\n",
       "      <td>0.057782</td>\n",
       "      <td>0.039509</td>\n",
       "      <td>0.055559</td>\n",
       "      <td>0.055559</td>\n",
       "      <td>...</td>\n",
       "      <td>0.180709</td>\n",
       "      <td>0.197833</td>\n",
       "      <td>0.197833</td>\n",
       "      <td>0.097706</td>\n",
       "      <td>0.119875</td>\n",
       "      <td>0.022206</td>\n",
       "      <td>0.193528</td>\n",
       "      <td>0.024840</td>\n",
       "      <td>0.027314</td>\n",
       "      <td>0.046656</td>\n",
       "    </tr>\n",
       "    <tr>\n",
       "      <th>extraversion</th>\n",
       "      <td>NaN</td>\n",
       "      <td>NaN</td>\n",
       "      <td>NaN</td>\n",
       "      <td>NaN</td>\n",
       "      <td>0.200052</td>\n",
       "      <td>0.538039</td>\n",
       "      <td>0.135046</td>\n",
       "      <td>0.297375</td>\n",
       "      <td>0.146428</td>\n",
       "      <td>0.146428</td>\n",
       "      <td>...</td>\n",
       "      <td>0.087881</td>\n",
       "      <td>0.006274</td>\n",
       "      <td>0.006274</td>\n",
       "      <td>0.036401</td>\n",
       "      <td>0.045123</td>\n",
       "      <td>0.008964</td>\n",
       "      <td>0.024129</td>\n",
       "      <td>0.064878</td>\n",
       "      <td>0.017800</td>\n",
       "      <td>0.037335</td>\n",
       "    </tr>\n",
       "    <tr>\n",
       "      <th>independ</th>\n",
       "      <td>NaN</td>\n",
       "      <td>NaN</td>\n",
       "      <td>NaN</td>\n",
       "      <td>NaN</td>\n",
       "      <td>NaN</td>\n",
       "      <td>0.165795</td>\n",
       "      <td>0.427209</td>\n",
       "      <td>0.023865</td>\n",
       "      <td>0.124849</td>\n",
       "      <td>0.124849</td>\n",
       "      <td>...</td>\n",
       "      <td>0.032542</td>\n",
       "      <td>0.045154</td>\n",
       "      <td>0.045154</td>\n",
       "      <td>0.038238</td>\n",
       "      <td>0.047461</td>\n",
       "      <td>0.009508</td>\n",
       "      <td>0.031578</td>\n",
       "      <td>0.050536</td>\n",
       "      <td>0.032153</td>\n",
       "      <td>0.016964</td>\n",
       "    </tr>\n",
       "  </tbody>\n",
       "</table>\n",
       "<p>5 rows × 49 columns</p>\n",
       "</div>"
      ],
      "text/plain": [
       "              stag     event       age  extraversion  independ  selfcontrol  \\\n",
       "stag           NaN  0.048361  0.197381      0.088227  0.000550     0.077076   \n",
       "event          NaN       NaN  0.048751      0.015458  0.051864     0.040040   \n",
       "age            NaN       NaN       NaN      0.149753  0.056129     0.038996   \n",
       "extraversion   NaN       NaN       NaN           NaN  0.200052     0.538039   \n",
       "independ       NaN       NaN       NaN           NaN       NaN     0.165795   \n",
       "\n",
       "               anxiety   novator  gender_f  gender_m  ...  coach_yes  \\\n",
       "stag          0.014755  0.037633  0.042269  0.042269  ...   0.000513   \n",
       "event         0.063232  0.006825  0.018917  0.018917  ...   0.045431   \n",
       "age           0.057782  0.039509  0.055559  0.055559  ...   0.180709   \n",
       "extraversion  0.135046  0.297375  0.146428  0.146428  ...   0.087881   \n",
       "independ      0.427209  0.023865  0.124849  0.124849  ...   0.032542   \n",
       "\n",
       "              head_gender_f  head_gender_m   way_bus   way_car  way_foot  \\\n",
       "stag               0.006827       0.006827  0.099126  0.102824  0.005540   \n",
       "event              0.041259       0.041259  0.034688  0.025663  0.094012   \n",
       "age                0.197833       0.197833  0.097706  0.119875  0.022206   \n",
       "extraversion       0.006274       0.006274  0.036401  0.045123  0.008964   \n",
       "independ           0.045154       0.045154  0.038238  0.047461  0.009508   \n",
       "\n",
       "              coach_head  industry_HoReCa  profession_Finance  \\\n",
       "stag            0.019235         0.005838            0.083865   \n",
       "event           0.054593         0.007876            0.049492   \n",
       "age             0.193528         0.024840            0.027314   \n",
       "extraversion    0.024129         0.064878            0.017800   \n",
       "independ        0.031578         0.050536            0.032153   \n",
       "\n",
       "              profession_Sales_revised  \n",
       "stag                          0.004171  \n",
       "event                         0.012233  \n",
       "age                           0.046656  \n",
       "extraversion                  0.037335  \n",
       "independ                      0.016964  \n",
       "\n",
       "[5 rows x 49 columns]"
      ]
     },
     "execution_count": 24,
     "metadata": {},
     "output_type": "execute_result"
    }
   ],
   "source": [
    "upper = corr_matrix.where(np.triu(np.ones(corr_matrix.shape), k=1).astype(np.bool))\n",
    "upper.head()"
   ]
  },
  {
   "cell_type": "markdown",
   "id": "e81c3536",
   "metadata": {},
   "source": [
    "**相関係数が0.8以上のものを削除する**"
   ]
  },
  {
   "cell_type": "code",
   "execution_count": 25,
   "id": "fc3f038f",
   "metadata": {},
   "outputs": [
    {
     "name": "stdout",
     "output_type": "stream",
     "text": [
      "削除する変数： ['gender_m', 'head_gender_m']\n",
      "削除する変数の数： 2\n"
     ]
    }
   ],
   "source": [
    "threshold = 0.8\n",
    "to_drop = [column for column in upper.columns if column != 'Tip' if any(upper[column] > threshold)]\n",
    "\n",
    "print('削除する変数：', to_drop)\n",
    "print('削除する変数の数：', len(to_drop))"
   ]
  },
  {
   "cell_type": "markdown",
   "id": "c50fce39",
   "metadata": {},
   "source": [
    "**gender、head_genderが相関係数0.8以上の項目を含む。これらは、男性と女性で完全に相関しているためgener_mとheaf_gender_mを削除する。**"
   ]
  },
  {
   "cell_type": "code",
   "execution_count": 18,
   "id": "86c0cd86",
   "metadata": {},
   "outputs": [
    {
     "ename": "NameError",
     "evalue": "name 'df_with_dummy_revised' is not defined",
     "output_type": "error",
     "traceback": [
      "\u001b[0;31m---------------------------------------------------------------------------\u001b[0m",
      "\u001b[0;31mNameError\u001b[0m                                 Traceback (most recent call last)",
      "Input \u001b[0;32mIn [18]\u001b[0m, in \u001b[0;36m<cell line: 1>\u001b[0;34m()\u001b[0m\n\u001b[0;32m----> 1\u001b[0m df_with_dummy_trimmed \u001b[38;5;241m=\u001b[39m \u001b[43mdf_with_dummy_revised\u001b[49m\u001b[38;5;241m.\u001b[39mdrop(columns \u001b[38;5;241m=\u001b[39m to_drop)\n\u001b[1;32m      2\u001b[0m df_with_dummy_trimmed\n",
      "\u001b[0;31mNameError\u001b[0m: name 'df_with_dummy_revised' is not defined"
     ]
    }
   ],
   "source": [
    "df_with_dummy_trimmed = df_with_dummy_revised.drop(columns = to_drop)\n",
    "df_with_dummy_trimmed"
   ]
  },
  {
   "cell_type": "code",
   "execution_count": 17,
   "id": "410d53b4",
   "metadata": {},
   "outputs": [
    {
     "ename": "NameError",
     "evalue": "name 'df_with_dummy_trimmed' is not defined",
     "output_type": "error",
     "traceback": [
      "\u001b[0;31m---------------------------------------------------------------------------\u001b[0m",
      "\u001b[0;31mNameError\u001b[0m                                 Traceback (most recent call last)",
      "Input \u001b[0;32mIn [17]\u001b[0m, in \u001b[0;36m<cell line: 1>\u001b[0;34m()\u001b[0m\n\u001b[0;32m----> 1\u001b[0m df_with_dummy_trimmed_final \u001b[38;5;241m=\u001b[39m \u001b[43mdf_with_dummy_trimmed\u001b[49m\u001b[38;5;241m.\u001b[39mdrop(columns \u001b[38;5;241m=\u001b[39m [\u001b[38;5;124m\"\u001b[39m\u001b[38;5;124mprofession_HR\u001b[39m\u001b[38;5;124m\"\u001b[39m,\u001b[38;5;124m\"\u001b[39m\u001b[38;5;124mindustry_transport\u001b[39m\u001b[38;5;124m\"\u001b[39m,\u001b[38;5;124m\"\u001b[39m\u001b[38;5;124mway_bus\u001b[39m\u001b[38;5;124m\"\u001b[39m,\u001b[38;5;124m\"\u001b[39m\u001b[38;5;124mcoach_no\u001b[39m\u001b[38;5;124m\"\u001b[39m])\n",
      "\u001b[0;31mNameError\u001b[0m: name 'df_with_dummy_trimmed' is not defined"
     ]
    }
   ],
   "source": [
    "df_with_dummy_trimmed_final = df_with_dummy_trimmed.drop(columns = [\"profession_HR\",\"industry_transport\",\"way_bus\",\"coach_no\"])"
   ]
  },
  {
   "cell_type": "markdown",
   "id": "4a82e350",
   "metadata": {},
   "source": [
    "**上記は、ダミー変数のすべてのカテゴリーを列にすると、分析がうまくいかないため、業種、職種、交通手段、トレーナーがいたか、の項目のそれぞれで一つのカテゴリーを削除した**"
   ]
  },
  {
   "cell_type": "markdown",
   "id": "a0aca918",
   "metadata": {},
   "source": [
    "## 回帰分析の実践"
   ]
  },
  {
   "cell_type": "markdown",
   "id": "b46a266f",
   "metadata": {},
   "source": [
    "**ロジスティック回帰分析を行う**"
   ]
  },
  {
   "cell_type": "code",
   "execution_count": 16,
   "id": "a6436a91",
   "metadata": {},
   "outputs": [
    {
     "ename": "NameError",
     "evalue": "name 'df_with_dummy_trimmed_final' is not defined",
     "output_type": "error",
     "traceback": [
      "\u001b[0;31m---------------------------------------------------------------------------\u001b[0m",
      "\u001b[0;31mNameError\u001b[0m                                 Traceback (most recent call last)",
      "Input \u001b[0;32mIn [16]\u001b[0m, in \u001b[0;36m<cell line: 1>\u001b[0;34m()\u001b[0m\n\u001b[0;32m----> 1\u001b[0m model \u001b[38;5;241m=\u001b[39m smf\u001b[38;5;241m.\u001b[39mglm(formula \u001b[38;5;241m=\u001b[39m \u001b[38;5;124m\"\u001b[39m\u001b[38;5;124mevent ~ stag + age + extraversion + independ + selfcontrol + anxiety + novator + gender_f + industry_Agriculture + industry_Banks + industry_Building + industry_Consult + industry_IT + industry_Mining + industry_Pharma + industry_PowerGeneration + industry_RealEstate + industry_Retail + industry_State + industry_Telecom + industry_etc + industry_manufacture + profession_Accounting + profession_BusinessDevelopment + profession_Commercial + profession_Consult + profession_Engineer + profession_IT + profession_Law + profession_Marketing + profession_PR + profession_Teaching + profession_etc + profession_manage + coach_yes + head_gender_f + way_car + way_foot + coach_head + industry_HoReCa + profession_Finance + profession_Sales_revised\u001b[39m\u001b[38;5;124m\"\u001b[39m, data \u001b[38;5;241m=\u001b[39m \u001b[43mdf_with_dummy_trimmed_final\u001b[49m, family \u001b[38;5;241m=\u001b[39m sm\u001b[38;5;241m.\u001b[39mfamilies\u001b[38;5;241m.\u001b[39mBinomial())\u001b[38;5;241m.\u001b[39mfit()\n",
      "\u001b[0;31mNameError\u001b[0m: name 'df_with_dummy_trimmed_final' is not defined"
     ]
    }
   ],
   "source": [
    "model = smf.glm(formula = \"event ~ stag + age + extraversion + independ + selfcontrol + anxiety + novator + gender_f + industry_Agriculture + industry_Banks + industry_Building + industry_Consult + industry_IT + industry_Mining + industry_Pharma + industry_PowerGeneration + industry_RealEstate + industry_Retail + industry_State + industry_Telecom + industry_etc + industry_manufacture + profession_Accounting + profession_BusinessDevelopment + profession_Commercial + profession_Consult + profession_Engineer + profession_IT + profession_Law + profession_Marketing + profession_PR + profession_Teaching + profession_etc + profession_manage + coach_yes + head_gender_f + way_car + way_foot + coach_head + industry_HoReCa + profession_Finance + profession_Sales_revised\", data = df_with_dummy_trimmed_final, family = sm.families.Binomial()).fit()"
   ]
  },
  {
   "cell_type": "code",
   "execution_count": 15,
   "id": "63c82776",
   "metadata": {},
   "outputs": [
    {
     "ename": "NameError",
     "evalue": "name 'model' is not defined",
     "output_type": "error",
     "traceback": [
      "\u001b[0;31m---------------------------------------------------------------------------\u001b[0m",
      "\u001b[0;31mNameError\u001b[0m                                 Traceback (most recent call last)",
      "Input \u001b[0;32mIn [15]\u001b[0m, in \u001b[0;36m<cell line: 1>\u001b[0;34m()\u001b[0m\n\u001b[0;32m----> 1\u001b[0m \u001b[43mmodel\u001b[49m\u001b[38;5;241m.\u001b[39msummary()\n",
      "\u001b[0;31mNameError\u001b[0m: name 'model' is not defined"
     ]
    }
   ],
   "source": [
    "model.summary()"
   ]
  },
  {
   "cell_type": "code",
   "execution_count": 14,
   "id": "6d4b6ef1",
   "metadata": {},
   "outputs": [
    {
     "ename": "NameError",
     "evalue": "name 'model' is not defined",
     "output_type": "error",
     "traceback": [
      "\u001b[0;31m---------------------------------------------------------------------------\u001b[0m",
      "\u001b[0;31mNameError\u001b[0m                                 Traceback (most recent call last)",
      "Input \u001b[0;32mIn [14]\u001b[0m, in \u001b[0;36m<cell line: 1>\u001b[0;34m()\u001b[0m\n\u001b[0;32m----> 1\u001b[0m \u001b[43mmodel\u001b[49m\u001b[38;5;241m.\u001b[39maic\n",
      "\u001b[0;31mNameError\u001b[0m: name 'model' is not defined"
     ]
    }
   ],
   "source": [
    "model.aic"
   ]
  },
  {
   "cell_type": "markdown",
   "id": "0c1efc2e",
   "metadata": {},
   "source": [
    "**業種のカテゴリーをなくして分析してみる**"
   ]
  },
  {
   "cell_type": "code",
   "execution_count": null,
   "id": "3393041a",
   "metadata": {},
   "outputs": [],
   "source": [
    "model_without_industry = smf.glm(formula = \"event ~ stag + age + extraversion + independ + selfcontrol + anxiety + novator + gender_f + profession_Accounting + profession_BusinessDevelopment + profession_Commercial + profession_Consult + profession_Engineer + profession_IT + profession_Law + profession_Marketing + profession_PR + profession_Teaching + profession_etc + profession_manage + coach_yes + head_gender_f + way_car + way_foot + coach_head + industry_HoReCa + profession_Finance + profession_Sales_revised\", data = df_with_dummy_trimmed_final, family = sm.families.Binomial()).fit()"
   ]
  },
  {
   "cell_type": "code",
   "execution_count": null,
   "id": "2f41c478",
   "metadata": {},
   "outputs": [],
   "source": [
    "model_without_industry.summary()"
   ]
  },
  {
   "cell_type": "code",
   "execution_count": null,
   "id": "4b3d6e46",
   "metadata": {},
   "outputs": [],
   "source": [
    "model_without_industry.aic"
   ]
  },
  {
   "cell_type": "markdown",
   "id": "14c3b1a0",
   "metadata": {},
   "source": [
    "**職種のカテゴリーをなくして分析してみる**"
   ]
  },
  {
   "cell_type": "code",
   "execution_count": null,
   "id": "e4c49f9e",
   "metadata": {},
   "outputs": [],
   "source": [
    "model_without_profession = smf.glm(formula = \"event ~ stag + age + extraversion + independ + selfcontrol + anxiety + novator + gender_f + industry_Agriculture + industry_Banks + industry_Building + industry_Consult + industry_IT + industry_Mining + industry_Pharma + industry_PowerGeneration + industry_RealEstate + industry_Retail + industry_State + industry_Telecom + industry_etc + industry_manufacture + industry_HoReCa\", data = df_with_dummy_trimmed_final, family = sm.families.Binomial()).fit()"
   ]
  },
  {
   "cell_type": "code",
   "execution_count": null,
   "id": "0f682623",
   "metadata": {},
   "outputs": [],
   "source": [
    "model_without_profession.aic"
   ]
  },
  {
   "cell_type": "markdown",
   "id": "1f028bc0",
   "metadata": {},
   "source": [
    "## モデルの評価"
   ]
  },
  {
   "cell_type": "code",
   "execution_count": null,
   "id": "6e7b15b0",
   "metadata": {},
   "outputs": [],
   "source": [
    "print(f\"全ての説明変数を入れたモデル: AIC {model.aic}\")\n",
    "print(f\"業種を説明変数から除いたモデル: AIC {model_without_industry.aic}\")\n",
    "print(f\"職種を説明変数から除いたモデル: AIC {model_without_profession.aic}\")"
   ]
  },
  {
   "cell_type": "markdown",
   "id": "3c1cc7a2",
   "metadata": {},
   "source": [
    "三つのAICを比較すると、職種と業種のカテゴリー変数を入れた回帰モデルのAICが最小であった。"
   ]
  },
  {
   "cell_type": "markdown",
   "id": "a3554beb",
   "metadata": {},
   "source": [
    "# 結果の考察"
   ]
  },
  {
   "cell_type": "markdown",
   "id": "1c442be7",
   "metadata": {},
   "source": [
    "## 詳細\n",
    "回帰分析の結果のうち、離職率にP値5％の基準で有意に影響があったのは\n",
    "「経験」、「年齢」、「徒歩通勤」、「業種：金融」、「業種：銀行」、「業種：建設」、「業種：コンサルティング」、「職種：経営層」\n",
    "であった。\n",
    "\n",
    "「経験」と「年齢」が上がるほど離職率は低下した。\n",
    "職場への慣れ、業務の効率化、社会的スキルの向上などが関連していると考察できる。\n",
    "「徒歩通勤」であれば、離職率は低下した。\n",
    "通勤時間が長いと負担になり離職率が上がるという証拠である。\n",
    "「業種：金融」、「業種：銀行」、「業種：建設」、「業種：コンサルティング」、「職種：経営層」いくつかの業種や職種では離職率が高かった。\n",
    "\n",
    "\n",
    "興味深いことに、ビッグ5テストで算出された個人の気質を表す指標は、離職率に、統計的有意性の観点では影響がなかった。\n",
    "\n",
    "## まとめ\n",
    "\n",
    "今回は、経験、年齢、徒歩通勤、いくつかの業種と職種が離職率に影響が出ることが判明した。\n",
    "\n",
    "職種や業種に関しては、容易に変えることが難しいかもしれない。\n",
    "しかし、求職者は、通勤時間が短い企業を選ぶ、もしくは勤務先近くに居住することで、将来やめてしまうかもしれない可能性を下げることができる。\n",
    "採用企業側にとっては、付近に居住しているかを指標の一つとして考慮したり、もしくはテレワークを推奨したり、中途採用に力を入れたりすることで、離職率を下げることができる。\n",
    "\n",
    "\n",
    "\n",
    "\n",
    "\n",
    "\n"
   ]
  },
  {
   "cell_type": "code",
   "execution_count": null,
   "id": "fac1ef6c",
   "metadata": {},
   "outputs": [],
   "source": []
  }
 ],
 "metadata": {
  "kernelspec": {
   "display_name": "Python 3 (ipykernel)",
   "language": "python",
   "name": "python3"
  },
  "language_info": {
   "codemirror_mode": {
    "name": "ipython",
    "version": 3
   },
   "file_extension": ".py",
   "mimetype": "text/x-python",
   "name": "python",
   "nbconvert_exporter": "python",
   "pygments_lexer": "ipython3",
   "version": "3.8.3"
  }
 },
 "nbformat": 4,
 "nbformat_minor": 5
}
